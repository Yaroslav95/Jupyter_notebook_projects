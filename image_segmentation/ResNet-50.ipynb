{
 "cells": [
  {
   "cell_type": "code",
   "execution_count": 4,
   "metadata": {},
   "outputs": [
    {
     "name": "stderr",
     "output_type": "stream",
     "text": [
      "C:\\Users\\yaroslav\\Anaconda3\\lib\\site-packages\\keras_applications\\resnet50.py:263: UserWarning: The output shape of `ResNet50(include_top=False)` has been changed since Keras 2.2.0.\n",
      "  warnings.warn('The output shape of `ResNet50(include_top=False)` '\n"
     ]
    }
   ],
   "source": [
    "from keras.applications.resnet50 import ResNet50\n",
    "from keras.preprocessing import image\n",
    "from scipy.misc import face\n",
    "import numpy as np\n",
    "\n",
    "resnet_settings = {'include_top': False, 'weights': 'imagenet'}\n",
    "resnet = ResNet50(**resnet_settings)\n",
    "\n"
   ]
  },
  {
   "cell_type": "code",
   "execution_count": 15,
   "metadata": {},
   "outputs": [
    {
     "data": {
      "text/plain": [
       "<keras.engine.training.Model at 0x1e27929b470>"
      ]
     },
     "execution_count": 15,
     "metadata": {},
     "output_type": "execute_result"
    }
   ],
   "source": [
    "resnet\n"
   ]
  },
  {
   "cell_type": "code",
   "execution_count": 52,
   "metadata": {},
   "outputs": [],
   "source": [
    "num = np.ones(576)"
   ]
  },
  {
   "cell_type": "code",
   "execution_count": 54,
   "metadata": {},
   "outputs": [
    {
     "data": {
      "text/plain": [
       "(576,)"
      ]
     },
     "execution_count": 54,
     "metadata": {},
     "output_type": "execute_result"
    }
   ],
   "source": [
    "num.shape"
   ]
  },
  {
   "cell_type": "code",
   "execution_count": 85,
   "metadata": {},
   "outputs": [],
   "source": [
    "import cv2\n",
    "\n",
    "from PIL import Image\n",
    "import glob\n",
    "import cv2\n",
    "\n",
    "\n",
    "frames = np.empty((10, 576, 768, 3))\n",
    "cnt = -1\n",
    "for img in glob.glob(\"train_2/*.bmp\"):\n",
    "        cnt = cnt + 1\n",
    "        #imm = Image.open(img)\n",
    "        imm = cv2.imread(img)\n",
    "        x = image.img_to_array(imm)\n",
    "        frames[cnt, :,:,:] = x\n",
    "# какой милый енот! \n",
    "#img = img.resize((224, 224))\n",
    "# в реальной жизни может понадобиться внимательнее относиться к ресайзу\n",
    "        #x = image.img_to_array(imm)\n",
    "       # x = np.expand_dims(x, axis=0)\n",
    "# нужно дополнительное измерение, т.к. модель рассчитана на работу с массивом изображений\n",
    "\n"
   ]
  },
  {
   "cell_type": "code",
   "execution_count": 86,
   "metadata": {},
   "outputs": [
    {
     "data": {
      "text/plain": [
       "9"
      ]
     },
     "execution_count": 86,
     "metadata": {},
     "output_type": "execute_result"
    }
   ],
   "source": [
    "cnt"
   ]
  },
  {
   "cell_type": "code",
   "execution_count": null,
   "metadata": {},
   "outputs": [],
   "source": []
  },
  {
   "cell_type": "code",
   "execution_count": 87,
   "metadata": {},
   "outputs": [
    {
     "data": {
      "text/plain": [
       "(10, 576, 768, 3)"
      ]
     },
     "execution_count": 87,
     "metadata": {},
     "output_type": "execute_result"
    }
   ],
   "source": [
    "frames.shape"
   ]
  },
  {
   "cell_type": "code",
   "execution_count": 90,
   "metadata": {},
   "outputs": [
    {
     "data": {
      "text/plain": [
       "array([[[46., 46., 46.],\n",
       "        [43., 43., 43.],\n",
       "        [39., 39., 39.],\n",
       "        ...,\n",
       "        [68., 68., 68.],\n",
       "        [69., 69., 69.],\n",
       "        [68., 68., 68.]],\n",
       "\n",
       "       [[42., 42., 42.],\n",
       "        [40., 40., 40.],\n",
       "        [40., 40., 40.],\n",
       "        ...,\n",
       "        [66., 66., 66.],\n",
       "        [69., 69., 69.],\n",
       "        [66., 66., 66.]],\n",
       "\n",
       "       [[39., 39., 39.],\n",
       "        [40., 40., 40.],\n",
       "        [42., 42., 42.],\n",
       "        ...,\n",
       "        [66., 66., 66.],\n",
       "        [70., 70., 70.],\n",
       "        [60., 60., 60.]],\n",
       "\n",
       "       ...,\n",
       "\n",
       "       [[53., 53., 53.],\n",
       "        [52., 52., 52.],\n",
       "        [53., 53., 53.],\n",
       "        ...,\n",
       "        [31., 31., 31.],\n",
       "        [28., 28., 28.],\n",
       "        [27., 27., 27.]],\n",
       "\n",
       "       [[45., 45., 45.],\n",
       "        [46., 46., 46.],\n",
       "        [48., 48., 48.],\n",
       "        ...,\n",
       "        [34., 34., 34.],\n",
       "        [29., 29., 29.],\n",
       "        [28., 28., 28.]],\n",
       "\n",
       "       [[42., 42., 42.],\n",
       "        [42., 42., 42.],\n",
       "        [47., 47., 47.],\n",
       "        ...,\n",
       "        [36., 36., 36.],\n",
       "        [33., 33., 33.],\n",
       "        [28., 28., 28.]]])"
      ]
     },
     "execution_count": 90,
     "metadata": {},
     "output_type": "execute_result"
    }
   ],
   "source": [
    "frames[0]"
   ]
  },
  {
   "cell_type": "code",
   "execution_count": 69,
   "metadata": {},
   "outputs": [
    {
     "data": {
      "text/plain": [
       "array([59., 59., 59.], dtype=float32)"
      ]
     },
     "execution_count": 69,
     "metadata": {},
     "output_type": "execute_result"
    }
   ],
   "source": [
    "x[0][500][700]"
   ]
  },
  {
   "cell_type": "code",
   "execution_count": 91,
   "metadata": {},
   "outputs": [],
   "source": [
    "features = resnet.predict(frames)"
   ]
  },
  {
   "cell_type": "markdown",
   "metadata": {},
   "source": [
    "##### Массив размерности (10, 18, 24, 2048) - свернули в 32 раза несколькими слоями\n",
    "##### Первая размерность 10 соответствует количеству изображений в наборе данных для обучения.\n",
    "#####  (18, 24, 2048) - это размерность вектора признаков, который выдает сверточная часть сети: 2048 карт признаков размером 18х24. Можно посмотреть фрагмент вектора признаков:"
   ]
  },
  {
   "cell_type": "code",
   "execution_count": 92,
   "metadata": {},
   "outputs": [
    {
     "data": {
      "text/plain": [
       "(10, 18, 24, 2048)"
      ]
     },
     "execution_count": 92,
     "metadata": {},
     "output_type": "execute_result"
    }
   ],
   "source": [
    "features.shape"
   ]
  },
  {
   "cell_type": "code",
   "execution_count": 98,
   "metadata": {},
   "outputs": [
    {
     "data": {
      "text/plain": [
       "array([2.091287 , 2.1851192, 0.       , ..., 0.       , 0.       ,\n",
       "       0.7086047], dtype=float32)"
      ]
     },
     "execution_count": 98,
     "metadata": {},
     "output_type": "execute_result"
    }
   ],
   "source": [
    "features[2][10][20]"
   ]
  },
  {
   "cell_type": "code",
   "execution_count": null,
   "metadata": {},
   "outputs": [],
   "source": []
  },
  {
   "cell_type": "markdown",
   "metadata": {},
   "source": [
    "## Теперь берем размеченное изображение (+ алгоритм Канни) "
   ]
  },
  {
   "cell_type": "code",
   "execution_count": 104,
   "metadata": {},
   "outputs": [],
   "source": [
    "image_y = cv2.imread(\"16_9_35_557_con2.jpg\")\n",
    "y = image.img_to_array(image_y)\n",
    "y = np.expand_dims(y, axis=0)"
   ]
  },
  {
   "cell_type": "code",
   "execution_count": null,
   "metadata": {},
   "outputs": [],
   "source": []
  },
  {
   "cell_type": "code",
   "execution_count": 105,
   "metadata": {},
   "outputs": [
    {
     "data": {
      "text/plain": [
       "(1, 576, 768, 3)"
      ]
     },
     "execution_count": 105,
     "metadata": {},
     "output_type": "execute_result"
    }
   ],
   "source": [
    "y.shape"
   ]
  },
  {
   "cell_type": "code",
   "execution_count": 106,
   "metadata": {},
   "outputs": [],
   "source": [
    "anwers = resnet.predict(y)"
   ]
  },
  {
   "cell_type": "code",
   "execution_count": 108,
   "metadata": {},
   "outputs": [
    {
     "data": {
      "text/plain": [
       "(1, 18, 24, 2048)"
      ]
     },
     "execution_count": 108,
     "metadata": {},
     "output_type": "execute_result"
    }
   ],
   "source": [
    "anwers.shape"
   ]
  },
  {
   "cell_type": "code",
   "execution_count": null,
   "metadata": {},
   "outputs": [],
   "source": []
  }
 ],
 "metadata": {
  "kernelspec": {
   "display_name": "Python 3",
   "language": "python",
   "name": "python3"
  },
  "language_info": {
   "codemirror_mode": {
    "name": "ipython",
    "version": 3
   },
   "file_extension": ".py",
   "mimetype": "text/x-python",
   "name": "python",
   "nbconvert_exporter": "python",
   "pygments_lexer": "ipython3",
   "version": "3.6.5"
  }
 },
 "nbformat": 4,
 "nbformat_minor": 2
}
