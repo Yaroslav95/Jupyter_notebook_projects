{
 "cells": [
  {
   "cell_type": "markdown",
   "metadata": {},
   "source": [
    "# Sarimax"
   ]
  },
  {
   "cell_type": "code",
   "execution_count": 586,
   "metadata": {},
   "outputs": [],
   "source": [
    "import statsmodels.api as sm"
   ]
  },
  {
   "cell_type": "code",
   "execution_count": 587,
   "metadata": {},
   "outputs": [],
   "source": [
    "sarima_data = Y"
   ]
  },
  {
   "cell_type": "code",
   "execution_count": 588,
   "metadata": {},
   "outputs": [
    {
     "name": "stdout",
     "output_type": "stream",
     "text": [
      "TimeSeriesSplit(max_train_size=720, n_splits=845)\n"
     ]
    }
   ],
   "source": [
    "tscv = TimeSeriesSplit(max_train_size= 720, n_splits=845)\n",
    "print(tscv)"
   ]
  },
  {
   "cell_type": "code",
   "execution_count": null,
   "metadata": {
    "scrolled": true
   },
   "outputs": [],
   "source": [
    "y_pred_test = []\n",
    "start_time = time.time()\n",
    "\n",
    "for train_index, test_index in tscv.split(Y):    \n",
    "    if len(train_index) >=72:\n",
    "\n",
    "        model_fit = sm.tsa.SARIMAX(Y.iloc[train_index], order=(1, 0, 0), seasonal_order=(1, 0, 0, 12)).fit()     \n",
    "        predd = model_fit.get_forecast(steps=24).predicted_mean\n",
    "        y_pred_test += list(predd)\n",
    "\n",
    "print('time: ', time.time() - start_time) "
   ]
  },
  {
   "cell_type": "code",
   "execution_count": 600,
   "metadata": {},
   "outputs": [
    {
     "data": {
      "text/plain": [
       "0.7193928792047282"
      ]
     },
     "execution_count": 600,
     "metadata": {},
     "output_type": "execute_result"
    }
   ],
   "source": [
    "mean_absolute_error(sarima_data.iloc[96:], y_pred_test)"
   ]
  },
  {
   "cell_type": "markdown",
   "metadata": {},
   "source": [
    "## Оптимизация параметров алгоритма"
   ]
  },
  {
   "cell_type": "code",
   "execution_count": 117,
   "metadata": {},
   "outputs": [
    {
     "name": "stdout",
     "output_type": "stream",
     "text": [
      "Examples of parameter for SARIMA...\n",
      "SARIMAX: (0, 0, 1) x (0, 0, 1, 12)\n",
      "SARIMAX: (0, 0, 1) x (0, 1, 0, 12)\n",
      "SARIMAX: (0, 1, 0) x (0, 1, 1, 12)\n",
      "SARIMAX: (0, 1, 0) x (1, 0, 0, 12)\n"
     ]
    }
   ],
   "source": [
    "import itertools\n",
    "\n",
    "p = d = q = range(0, 2)\n",
    "pdq = list(itertools.product(p, d, q))\n",
    "seasonal_pdq = [(x[0], x[1], x[2], 12) for x in list(itertools.product(p, d, q))]"
   ]
  },
  {
   "cell_type": "code",
   "execution_count": 118,
   "metadata": {},
   "outputs": [
    {
     "name": "stderr",
     "output_type": "stream",
     "text": [
      "C:\\Users\\yaroslav\\Anaconda3\\lib\\site-packages\\statsmodels\\tsa\\statespace\\representation.py:375: FutureWarning: Using a non-tuple sequence for multidimensional indexing is deprecated; use `arr[tuple(seq)]` instead of `arr[seq]`. In the future this will be interpreted as an array index, `arr[np.array(seq)]`, which will result either in an error or a different result.\n",
      "  return matrix[[slice(None)]*(matrix.ndim-1) + [0]]\n"
     ]
    },
    {
     "name": "stdout",
     "output_type": "stream",
     "text": [
      "ARIMA(0, 0, 0)x(0, 0, 0, 12)12 - AIC:83231.04724386263\n",
      "ARIMA(0, 0, 0)x(0, 0, 1, 12)12 - AIC:67828.90700472365\n",
      "ARIMA(0, 0, 0)x(0, 1, 0, 12)12 - AIC:54120.70557583868\n",
      "ARIMA(0, 0, 0)x(0, 1, 1, 12)12 - AIC:53553.06376798067\n"
     ]
    },
    {
     "name": "stderr",
     "output_type": "stream",
     "text": [
      "C:\\Users\\yaroslav\\Anaconda3\\lib\\site-packages\\statsmodels\\base\\model.py:508: ConvergenceWarning: Maximum Likelihood optimization failed to converge. Check mle_retvals\n",
      "  \"Check mle_retvals\", ConvergenceWarning)\n"
     ]
    },
    {
     "name": "stdout",
     "output_type": "stream",
     "text": [
      "ARIMA(0, 0, 0)x(1, 0, 0, 12)12 - AIC:52984.166515608755\n",
      "ARIMA(0, 0, 0)x(1, 0, 1, 12)12 - AIC:52826.82460076927\n",
      "ARIMA(0, 0, 0)x(1, 1, 0, 12)12 - AIC:53783.0865958205\n",
      "ARIMA(0, 0, 0)x(1, 1, 1, 12)12 - AIC:50350.313866838034\n",
      "ARIMA(0, 0, 1)x(0, 0, 0, 12)12 - AIC:59659.66199920862\n",
      "ARIMA(0, 0, 1)x(0, 0, 1, 12)12 - AIC:46962.46460928707\n",
      "ARIMA(0, 0, 1)x(0, 1, 0, 12)12 - AIC:37394.37019589949\n",
      "ARIMA(0, 0, 1)x(0, 1, 1, 12)12 - AIC:35715.91701852785\n",
      "ARIMA(0, 0, 1)x(1, 0, 0, 12)12 - AIC:35894.853172212665\n",
      "ARIMA(0, 0, 1)x(1, 0, 1, 12)12 - AIC:35150.96444863848\n",
      "ARIMA(0, 0, 1)x(1, 1, 0, 12)12 - AIC:36511.17993844408\n",
      "ARIMA(0, 0, 1)x(1, 1, 1, 12)12 - AIC:32720.500746040198\n",
      "ARIMA(0, 1, 0)x(0, 0, 0, 12)12 - AIC:8658.216397694257\n",
      "ARIMA(0, 1, 0)x(0, 0, 1, 12)12 - AIC:8636.652510801858\n",
      "ARIMA(0, 1, 0)x(0, 1, 0, 12)12 - AIC:22654.602755203516\n",
      "ARIMA(0, 1, 0)x(0, 1, 1, 12)12 - AIC:8715.499424795697\n"
     ]
    },
    {
     "name": "stderr",
     "output_type": "stream",
     "text": [
      "C:\\Users\\yaroslav\\Anaconda3\\lib\\site-packages\\statsmodels\\base\\model.py:508: ConvergenceWarning: Maximum Likelihood optimization failed to converge. Check mle_retvals\n",
      "  \"Check mle_retvals\", ConvergenceWarning)\n"
     ]
    },
    {
     "name": "stdout",
     "output_type": "stream",
     "text": [
      "ARIMA(0, 1, 0)x(1, 0, 0, 12)12 - AIC:8638.841375614074\n",
      "ARIMA(0, 1, 0)x(1, 0, 1, 12)12 - AIC:8534.644374703845\n",
      "ARIMA(0, 1, 0)x(1, 1, 0, 12)12 - AIC:17844.507798637347\n",
      "ARIMA(0, 1, 0)x(1, 1, 1, 12)12 - AIC:8716.758407034737\n",
      "ARIMA(0, 1, 1)x(0, 0, 0, 12)12 - AIC:8659.989913641448\n",
      "ARIMA(0, 1, 1)x(0, 0, 1, 12)12 - AIC:8638.625494056409\n",
      "ARIMA(0, 1, 1)x(0, 1, 0, 12)12 - AIC:22654.11102439764\n",
      "ARIMA(0, 1, 1)x(0, 1, 1, 12)12 - AIC:8717.714668019491\n",
      "ARIMA(0, 1, 1)x(1, 0, 0, 12)12 - AIC:8640.245246386366\n",
      "ARIMA(0, 1, 1)x(1, 0, 1, 12)12 - AIC:8536.060791573485\n",
      "ARIMA(0, 1, 1)x(1, 1, 0, 12)12 - AIC:17844.887644907605\n",
      "ARIMA(0, 1, 1)x(1, 1, 1, 12)12 - AIC:8718.105292190798\n",
      "ARIMA(1, 0, 0)x(0, 0, 0, 12)12 - AIC:8550.153580141932\n",
      "ARIMA(1, 0, 0)x(0, 0, 1, 12)12 - AIC:8534.470400534075\n",
      "ARIMA(1, 0, 0)x(0, 1, 0, 12)12 - AIC:21650.07218655369\n",
      "ARIMA(1, 0, 0)x(0, 1, 1, 12)12 - AIC:8372.979409165338\n",
      "ARIMA(1, 0, 0)x(1, 0, 0, 12)12 - AIC:8535.814661795339\n",
      "ARIMA(1, 0, 0)x(1, 0, 1, 12)12 - AIC:8454.180835939893\n",
      "ARIMA(1, 0, 0)x(1, 1, 0, 12)12 - AIC:17135.458769949313\n",
      "ARIMA(1, 0, 0)x(1, 1, 1, 12)12 - AIC:8374.9675979796\n",
      "ARIMA(1, 0, 1)x(0, 0, 0, 12)12 - AIC:8549.564490368386\n",
      "ARIMA(1, 0, 1)x(0, 0, 1, 12)12 - AIC:8534.052085328747\n",
      "ARIMA(1, 0, 1)x(0, 1, 0, 12)12 - AIC:21573.38609899054\n",
      "ARIMA(1, 0, 1)x(0, 1, 1, 12)12 - AIC:8364.525225275387\n",
      "ARIMA(1, 0, 1)x(1, 0, 0, 12)12 - AIC:8535.311458197233\n",
      "ARIMA(1, 0, 1)x(1, 0, 1, 12)12 - AIC:8453.36785428646\n",
      "ARIMA(1, 0, 1)x(1, 1, 0, 12)12 - AIC:17094.719216043013\n",
      "ARIMA(1, 0, 1)x(1, 1, 1, 12)12 - AIC:8366.505299495315\n",
      "ARIMA(1, 1, 0)x(0, 0, 0, 12)12 - AIC:8659.56201527985\n",
      "ARIMA(1, 1, 0)x(0, 0, 1, 12)12 - AIC:8638.1405735441\n",
      "ARIMA(1, 1, 0)x(0, 1, 0, 12)12 - AIC:22654.513794024344\n",
      "ARIMA(1, 1, 0)x(0, 1, 1, 12)12 - AIC:8717.62261383671\n",
      "ARIMA(1, 1, 0)x(1, 0, 0, 12)12 - AIC:8640.435490045616\n",
      "ARIMA(1, 1, 0)x(1, 0, 1, 12)12 - AIC:8535.96026609813\n",
      "ARIMA(1, 1, 0)x(1, 1, 0, 12)12 - AIC:17845.131255243676\n",
      "ARIMA(1, 1, 0)x(1, 1, 1, 12)12 - AIC:8718.307688592598\n",
      "ARIMA(1, 1, 1)x(0, 0, 0, 12)12 - AIC:8618.489468247717\n",
      "ARIMA(1, 1, 1)x(0, 0, 1, 12)12 - AIC:8601.89356736711\n",
      "ARIMA(1, 1, 1)x(0, 1, 0, 12)12 - AIC:21666.057820824448\n",
      "ARIMA(1, 1, 1)x(0, 1, 1, 12)12 - AIC:8677.113463418948\n",
      "ARIMA(1, 1, 1)x(1, 0, 0, 12)12 - AIC:8603.218609445436\n",
      "ARIMA(1, 1, 1)x(1, 0, 1, 12)12 - AIC:8504.55411045845\n",
      "ARIMA(1, 1, 1)x(1, 1, 0, 12)12 - AIC:17184.1197461575\n",
      "ARIMA(1, 1, 1)x(1, 1, 1, 12)12 - AIC:8682.362958768732\n"
     ]
    }
   ],
   "source": [
    "for param in pdq:\n",
    "    for param_seasonal in seasonal_pdq:\n",
    "        try:\n",
    "            mod = sm.tsa.statespace.SARIMAX(sarima_train,order=param,seasonal_order=param_seasonal)\n",
    "            results = mod.fit()\n",
    "            print('ARIMA{}x{}12 - AIC:{}'.format(param,param_seasonal,results.aic))\n",
    "        except: \n",
    "            continue"
   ]
  },
  {
   "cell_type": "code",
   "execution_count": null,
   "metadata": {},
   "outputs": [],
   "source": []
  },
  {
   "cell_type": "code",
   "execution_count": 159,
   "metadata": {},
   "outputs": [
    {
     "data": {
      "text/plain": [
       "<matplotlib.axes._subplots.AxesSubplot at 0x1c38ba36710>"
      ]
     },
     "execution_count": 159,
     "metadata": {},
     "output_type": "execute_result"
    },
    {
     "data": {
      "image/png": "[encoded data removed]",
      "text/plain": [
       "<Figure size 432x288 with 1 Axes>"
      ]
     },
     "metadata": {},
     "output_type": "display_data"
    }
   ],
   "source": [
    "df_days.assign(year_month = lambda x: x.DateTime - pd.offsets.MonthEnd() + pd.offsets.MonthBegin())\\\n",
    "       .groupby('year_month')['target_mean'].mean().plot()"
   ]
  },
  {
   "cell_type": "code",
   "execution_count": null,
   "metadata": {},
   "outputs": [],
   "source": []
  }
 ],
 "metadata": {
  "kernelspec": {
   "display_name": "Python 3",
   "language": "python",
   "name": "python3"
  },
  "language_info": {
   "codemirror_mode": {
    "name": "ipython",
    "version": 3
   },
   "file_extension": ".py",
   "mimetype": "text/x-python",
   "name": "python",
   "nbconvert_exporter": "python",
   "pygments_lexer": "ipython3",
   "version": "3.8.1"
  }
 },
 "nbformat": 4,
 "nbformat_minor": 2
}
