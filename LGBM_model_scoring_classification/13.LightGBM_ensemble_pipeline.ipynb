{
 "cells": [
  {
   "cell_type": "code",
   "execution_count": 1,
   "metadata": {},
   "outputs": [],
   "source": [
    "%load_ext autoreload\n",
    "%autoreload 2"
   ]
  },
  {
   "cell_type": "code",
   "execution_count": 1,
   "metadata": {},
   "outputs": [],
   "source": [
    "import pandas as pd\n",
    "import numpy as np\n",
    "import matplotlib.pyplot as plt\n",
    "import seaborn as sns\n",
    "sns.set()\n",
    "from sklearn.model_selection import train_test_split\n",
    "import shap"
   ]
  },
  {
   "cell_type": "code",
   "execution_count": 2,
   "metadata": {},
   "outputs": [],
   "source": [
    "import lightgbm as lgbm\n",
    "from sklearn.model_selection import StratifiedKFold\n",
    "from sklearn.metrics import roc_curve\n",
    "from sklearn.metrics import roc_auc_score"
   ]
  },
  {
   "cell_type": "code",
   "execution_count": 3,
   "metadata": {},
   "outputs": [],
   "source": [
    "from scipy import stats\n",
    "import time\n",
    "import warnings\n",
    "warnings.filterwarnings('ignore')\n",
    "#warnings.filterwarnings(action='once')"
   ]
  },
  {
   "cell_type": "code",
   "execution_count": 4,
   "metadata": {},
   "outputs": [],
   "source": [
    "import create_data"
   ]
  },
  {
   "cell_type": "code",
   "execution_count": 5,
   "metadata": {},
   "outputs": [],
   "source": [
    "from sklearn.base import BaseEstimator, TransformerMixin"
   ]
  },
  {
   "cell_type": "code",
   "execution_count": 5,
   "metadata": {},
   "outputs": [],
   "source": [
    "import const\n",
    "import transformers"
   ]
  },
  {
   "cell_type": "code",
   "execution_count": null,
   "metadata": {},
   "outputs": [],
   "source": []
  },
  {
   "cell_type": "markdown",
   "metadata": {},
   "source": [
    "# Создание и предобработка датасета"
   ]
  },
  {
   "cell_type": "code",
   "execution_count": null,
   "metadata": {},
   "outputs": [],
   "source": [
    "df_data=create_data.create_df()"
   ]
  },
  {
   "cell_type": "code",
   "execution_count": null,
   "metadata": {},
   "outputs": [],
   "source": []
  },
  {
   "cell_type": "markdown",
   "metadata": {},
   "source": [
    "# Построение модели (используются 22 фичи)"
   ]
  },
  {
   "cell_type": "markdown",
   "metadata": {},
   "source": [
    "## 1. Деление данных на 2 временных периода: 04.2016-06.2017, 07.2017-08.2018"
   ]
  },
  {
   "cell_type": "markdown",
   "metadata": {},
   "source": [
    "### Берем test_2 с df_2018 (Далее используется этот вариант)"
   ]
  },
  {
   "cell_type": "markdown",
   "metadata": {},
   "source": [
    "test_2 состоит из актуальных данных из промежутка (07.2017-08.2018) и содержит 2196 записей (ровно как и различные test по кросс-валидации)"
   ]
  },
  {
   "cell_type": "code",
   "execution_count": 8,
   "metadata": {},
   "outputs": [],
   "source": [
    "X = df_data.loc[lambda x: x.REQUEST_DATE>='2017-07-01'].drop(['12_90'], axis=1)\n",
    "Y = df_data.loc[lambda x: x.REQUEST_DATE>='2017-07-01']['12_90']\n",
    "\n",
    "X_train, X_test, y_train, y_test = train_test_split(X, Y, test_size = 2196, stratify=Y, random_state=5, shuffle = True)\n",
    "#X_test=X_test.drop(['REQUEST_DATE'],axis=1)"
   ]
  },
  {
   "cell_type": "code",
   "execution_count": 9,
   "metadata": {},
   "outputs": [],
   "source": [
    "model_param= {'model__lambda_l1': 11,\n",
    "              'model__lambda_l2': 40,\n",
    "              'model__learning_rate': 0.01,\n",
    "              'model__max_bin': 22,\n",
    "              'model__max_depth': 7,\n",
    "              'model__metric': 'AUC',\n",
    "              'model__min_data_in_leaf': 63,\n",
    "              'model__n_estimators': 2500,\n",
    "              'model__num_leaves': 134,\n",
    "              'model__objective': 'binary'}"
   ]
  },
  {
   "cell_type": "code",
   "execution_count": 11,
   "metadata": {},
   "outputs": [],
   "source": [
    "from sklearn.pipeline import Pipeline\n",
    "\n",
    "preprocessor_pipe = Pipeline(steps=[('renamer', transformers.preprocessors.Renamer(const.columns.renaming_columns)),\n",
    "                                    ('cleaner', transformers.preprocessors.Cleaner_columns_as_wiki(const.columns.columns_as_wiki)),\n",
    "                                    ('typechanger', transformers.preprocessors.TypeСhanger(const.columns.col_transform_default_int,\n",
    "                                                                                     const.columns.col_transform_default_str,\n",
    "                                                                                     const.columns.col_transform_type_date, \n",
    "                                                                                     const.columns.col_transform_type_int, \n",
    "                                                                                     const.columns.col_transform_type_str,\n",
    "                                                                                     const.columns.col_transform_type_float)),\n",
    "                                    ('preprocessor', Preprocessor()),\n",
    "                                    ('clipper' , transformers.preprocessors.Clipper(const.columns.columns_binary_clip, \n",
    "                                                                                    const.columns.columns_percent_clip, 0.98)),\n",
    "                                    ('final_columns', transformers.FinalFeaturesSelector.FinalFeaturesSelector(const.columns.final_columns_model))\n",
    "                                    ])"
   ]
  },
  {
   "cell_type": "code",
   "execution_count": 12,
   "metadata": {},
   "outputs": [],
   "source": [
    "from sklearn.pipeline import Pipeline\n",
    "\n",
    "my_pipeline = Pipeline(steps=[('preprocessor_pipe', preprocessor_pipe),\n",
    "                              ('model', lgbm.LGBMClassifier())\n",
    "                             ])"
   ]
  },
  {
   "cell_type": "code",
   "execution_count": 13,
   "metadata": {},
   "outputs": [
    {
     "data": {
      "text/plain": [
       "Pipeline(memory=None,\n",
       "         steps=[('preprocessor_pipe',\n",
       "                 Pipeline(memory=None,\n",
       "                          steps=[('renamer',\n",
       "                                  Renamer(renaming_dict={'ALL_CLC': 'MEGAFON|ALL_CLC',\n",
       "                                                         'FPS_TOTAL_AMOUNT': 'FPS|MAINRULES_COUNT',\n",
       "                                                         'LIFETIME_BIN': 'MEGAFON|LIFETIME_BIN',\n",
       "                                                         'LOANS_QUA_AUTO_ACTIVE': 'TTL_AUTO_ACTIVE',\n",
       "                                                         'LOANS_QUA_AUTO_TOTAL': 'TTL_AUTO_ALL',\n",
       "                                                         'LOANS_QUA_CC_ACTIVE': 'TTL_CREDIT_CARD_ACTIVE',\n",
       "                                                         'LOAN...\n",
       "                                lambda_l1=11, lambda_l2=40, learning_rate=0.01,\n",
       "                                max_bin=22, max_depth=7, metric='AUC',\n",
       "                                min_child_samples=20, min_child_weight=0.001,\n",
       "                                min_data_in_leaf=63, min_split_gain=0.0,\n",
       "                                n_estimators=2500, n_jobs=-1, num_leaves=134,\n",
       "                                objective='binary', random_state=None,\n",
       "                                reg_alpha=0.0, reg_lambda=0.0, silent=True,\n",
       "                                subsample=1.0, subsample_for_bin=200000,\n",
       "                                subsample_freq=0))],\n",
       "         verbose=False)"
      ]
     },
     "execution_count": 13,
     "metadata": {},
     "output_type": "execute_result"
    }
   ],
   "source": [
    "my_pipeline.set_params(**model_param)"
   ]
  },
  {
   "cell_type": "code",
   "execution_count": 25,
   "metadata": {},
   "outputs": [
    {
     "name": "stdout",
     "output_type": "stream",
     "text": [
      "Training until validation scores don't improve for 200 rounds\n",
      "Early stopping, best iteration is:\n",
      "[2237]\tvalid_0's auc: 0.833837\n"
     ]
    },
    {
     "data": {
      "text/plain": [
       "Pipeline(memory=None,\n",
       "         steps=[('preprocessor_pipe',\n",
       "                 Pipeline(memory=None,\n",
       "                          steps=[('renamer',\n",
       "                                  Renamer(renaming_dict={'ALL_CLC': 'MEGAFON|ALL_CLC',\n",
       "                                                         'FPS_TOTAL_AMOUNT': 'FPS|MAINRULES_COUNT',\n",
       "                                                         'LIFETIME_BIN': 'MEGAFON|LIFETIME_BIN',\n",
       "                                                         'LOANS_QUA_AUTO_ACTIVE': 'TTL_AUTO_ACTIVE',\n",
       "                                                         'LOANS_QUA_AUTO_TOTAL': 'TTL_AUTO_ALL',\n",
       "                                                         'LOANS_QUA_CC_ACTIVE': 'TTL_CREDIT_CARD_ACTIVE',\n",
       "                                                         'LOAN...\n",
       "                                lambda_l1=11, lambda_l2=40, learning_rate=0.01,\n",
       "                                max_bin=22, max_depth=7, metric='AUC',\n",
       "                                min_child_samples=20, min_child_weight=0.001,\n",
       "                                min_data_in_leaf=63, min_split_gain=0.0,\n",
       "                                n_estimators=2500, n_jobs=-1, num_leaves=134,\n",
       "                                objective='binary', random_state=None,\n",
       "                                reg_alpha=0.0, reg_lambda=0.0, silent=True,\n",
       "                                subsample=1.0, subsample_for_bin=200000,\n",
       "                                subsample_freq=0))],\n",
       "         verbose=False)"
      ]
     },
     "execution_count": 25,
     "metadata": {},
     "output_type": "execute_result"
    }
   ],
   "source": [
    "# Preprocessing of training data, fit model \n",
    "my_pipeline.fit(X_train, y_train, model__eval_set=[(preprocessor_pipe.transform(X_test),  y_test)],\n",
    "                            #eval_set=[(x_test,  y_test), (x_test_2,  y_test_2)], \n",
    "                            #eval_names=['cv', 'fixed'],\n",
    "                            model__eval_metric='auc',\n",
    "                            model__early_stopping_rounds=200,\n",
    "                            model__verbose=-1)"
   ]
  },
  {
   "cell_type": "code",
   "execution_count": null,
   "metadata": {},
   "outputs": [],
   "source": [
    "0.83386"
   ]
  },
  {
   "cell_type": "code",
   "execution_count": null,
   "metadata": {},
   "outputs": [],
   "source": []
  },
  {
   "cell_type": "code",
   "execution_count": 149,
   "metadata": {},
   "outputs": [],
   "source": [
    "# Preprocessing of validation data, get predictions\n",
    "preds = my_pipeline.predict(X_test)\n",
    "\n",
    "# Evaluate the model\n",
    "#score = roc_auc_score(y_test, preds)"
   ]
  },
  {
   "cell_type": "code",
   "execution_count": null,
   "metadata": {},
   "outputs": [],
   "source": []
  },
  {
   "cell_type": "markdown",
   "metadata": {},
   "source": [
    "## 2.Деление на train и test"
   ]
  },
  {
   "cell_type": "markdown",
   "metadata": {},
   "source": [
    "Для test используются данные только из 07.2017-08.2018 промежутка, который делится на 5 фолдов, а затем 1 часть берется для теста, а остальные добавляются к 04.2016-06.2017 и образуют train."
   ]
  },
  {
   "cell_type": "markdown",
   "metadata": {},
   "source": [
    "## 2. Кросс-валидация на 5 фолдах и 20 различных random_state ==> 100 моделей\n",
    "## 3. Обучение моделей"
   ]
  },
  {
   "cell_type": "code",
   "execution_count": 92,
   "metadata": {},
   "outputs": [],
   "source": [
    "def my_cv(df_full, cv, fold):\n",
    "    '''кастомная кросс валидация\n",
    "       return datasets: x_train, y_train, x_test, y_test\n",
    "    '''\n",
    "    train_ind, test_ind = [], []\n",
    "    df_2018=df_full.loc[lambda x: x.REQUEST_DATE>='2017-07-01']\n",
    "    \n",
    "    for train_indexes, test_indexes in cv.split(df_2018.drop('12_90', axis=1), df_2018['12_90']):\n",
    "        #train_ind.append(df_2018.iloc[train_indexes,:].index)\n",
    "        test_ind.append(df_2018.iloc[test_indexes,:].index)\n",
    "        \n",
    "    return(df_full.loc[lambda x: ~x.index.isin(test_ind[fold])].drop(['12_90','REQUEST_DATE'], axis=1),\n",
    "           df_full.loc[lambda x: ~x.index.isin(test_ind[fold])]['12_90'],\n",
    "           df_full.loc[lambda x: x.index.isin(test_ind[fold])].drop(['12_90','REQUEST_DATE'], axis=1),\n",
    "           df_full.loc[lambda x: x.index.isin(test_ind[fold])]['12_90'])"
   ]
  },
  {
   "cell_type": "code",
   "execution_count": 93,
   "metadata": {},
   "outputs": [],
   "source": [
    "def create_dict(indexes):\n",
    "    '''\n",
    "    Создание нулевого словаря\n",
    "    '''\n",
    "    new_dict={}    \n",
    "    for i in indexes:\n",
    "        new_dict[i]=0\n",
    "        \n",
    "    return(new_dict)\n",
    "\n",
    "def update_dict(indexes, dict_pred, cur_pred):\n",
    "    '''\n",
    "    Обновление словаря, в котором ключ-это индекс наблюдения, значение-суммарное качество на классификаторах\n",
    "    '''\n",
    "    for ind in indexes:\n",
    "        dict_pred.update({ind:dict_pred[ind]+cur_pred.loc[ind]})\n",
    "        \n",
    "    return(dict_pred)"
   ]
  },
  {
   "cell_type": "code",
   "execution_count": 94,
   "metadata": {},
   "outputs": [],
   "source": [
    "grid_params= {'lambda_l1': 11,\n",
    "  'lambda_l2': 40,\n",
    "  'learning_rate': 0.01,\n",
    "  'max_bin': 22,\n",
    "  'max_depth': 7,\n",
    "  'metric': 'AUC',\n",
    "  'min_data_in_leaf': 63,\n",
    "  'n_estimators': 2500,\n",
    "  'num_leaves': 134,\n",
    "  'objective': 'binary'}"
   ]
  },
  {
   "cell_type": "code",
   "execution_count": 95,
   "metadata": {
    "scrolled": true
   },
   "outputs": [
    {
     "name": "stdout",
     "output_type": "stream",
     "text": [
      "5\n",
      "Training until validation scores don't improve for 200 rounds\n",
      "Early stopping, best iteration is:\n",
      "[972]\tvalid_0's auc: 0.81942\n",
      "Training until validation scores don't improve for 200 rounds\n",
      "Early stopping, best iteration is:\n",
      "[1640]\tvalid_0's auc: 0.817777\n",
      "Training until validation scores don't improve for 200 rounds\n",
      "Early stopping, best iteration is:\n",
      "[1548]\tvalid_0's auc: 0.819166\n",
      "Training until validation scores don't improve for 200 rounds\n",
      "Early stopping, best iteration is:\n",
      "[2228]\tvalid_0's auc: 0.835718\n",
      "Training until validation scores don't improve for 200 rounds\n",
      "Early stopping, best iteration is:\n",
      "[1778]\tvalid_0's auc: 0.815013\n",
      "55\n",
      "Training until validation scores don't improve for 200 rounds\n",
      "Early stopping, best iteration is:\n",
      "[2045]\tvalid_0's auc: 0.800974\n",
      "Training until validation scores don't improve for 200 rounds\n",
      "Did not meet early stopping. Best iteration is:\n",
      "[2488]\tvalid_0's auc: 0.816952\n",
      "Training until validation scores don't improve for 200 rounds\n",
      "Early stopping, best iteration is:\n",
      "[1561]\tvalid_0's auc: 0.841734\n",
      "Training until validation scores don't improve for 200 rounds\n",
      "Early stopping, best iteration is:\n",
      "[2070]\tvalid_0's auc: 0.823787\n",
      "Training until validation scores don't improve for 200 rounds\n",
      "Early stopping, best iteration is:\n",
      "[1675]\tvalid_0's auc: 0.840184\n",
      "111\n",
      "Training until validation scores don't improve for 200 rounds\n",
      "Early stopping, best iteration is:\n",
      "[1457]\tvalid_0's auc: 0.803552\n",
      "Training until validation scores don't improve for 200 rounds\n",
      "Early stopping, best iteration is:\n",
      "[1467]\tvalid_0's auc: 0.842282\n",
      "Training until validation scores don't improve for 200 rounds\n",
      "Early stopping, best iteration is:\n",
      "[1836]\tvalid_0's auc: 0.80922\n",
      "Training until validation scores don't improve for 200 rounds\n",
      "Early stopping, best iteration is:\n",
      "[1400]\tvalid_0's auc: 0.828561\n",
      "Training until validation scores don't improve for 200 rounds\n",
      "Early stopping, best iteration is:\n",
      "[1511]\tvalid_0's auc: 0.822243\n",
      "155\n",
      "Training until validation scores don't improve for 200 rounds\n",
      "Early stopping, best iteration is:\n",
      "[1792]\tvalid_0's auc: 0.815839\n",
      "Training until validation scores don't improve for 200 rounds\n",
      "Early stopping, best iteration is:\n",
      "[1659]\tvalid_0's auc: 0.814404\n",
      "Training until validation scores don't improve for 200 rounds\n",
      "Early stopping, best iteration is:\n",
      "[1081]\tvalid_0's auc: 0.83696\n",
      "Training until validation scores don't improve for 200 rounds\n",
      "Early stopping, best iteration is:\n",
      "[1966]\tvalid_0's auc: 0.819846\n",
      "Training until validation scores don't improve for 200 rounds\n",
      "Early stopping, best iteration is:\n",
      "[1408]\tvalid_0's auc: 0.816409\n",
      "202\n",
      "Training until validation scores don't improve for 200 rounds\n",
      "Early stopping, best iteration is:\n",
      "[1598]\tvalid_0's auc: 0.817246\n",
      "Training until validation scores don't improve for 200 rounds\n",
      "Did not meet early stopping. Best iteration is:\n",
      "[2476]\tvalid_0's auc: 0.852638\n",
      "Training until validation scores don't improve for 200 rounds\n",
      "Early stopping, best iteration is:\n",
      "[1305]\tvalid_0's auc: 0.809491\n",
      "Training until validation scores don't improve for 200 rounds\n",
      "Early stopping, best iteration is:\n",
      "[1233]\tvalid_0's auc: 0.806398\n",
      "Training until validation scores don't improve for 200 rounds\n",
      "Early stopping, best iteration is:\n",
      "[1785]\tvalid_0's auc: 0.824223\n",
      "232\n",
      "Training until validation scores don't improve for 200 rounds\n",
      "Early stopping, best iteration is:\n",
      "[1014]\tvalid_0's auc: 0.832163\n",
      "Training until validation scores don't improve for 200 rounds\n",
      "Early stopping, best iteration is:\n",
      "[1566]\tvalid_0's auc: 0.828628\n",
      "Training until validation scores don't improve for 200 rounds\n",
      "Did not meet early stopping. Best iteration is:\n",
      "[2310]\tvalid_0's auc: 0.808776\n",
      "Training until validation scores don't improve for 200 rounds\n",
      "Did not meet early stopping. Best iteration is:\n",
      "[2472]\tvalid_0's auc: 0.834685\n",
      "Training until validation scores don't improve for 200 rounds\n",
      "Early stopping, best iteration is:\n",
      "[1470]\tvalid_0's auc: 0.817326\n",
      "280\n",
      "Training until validation scores don't improve for 200 rounds\n",
      "Early stopping, best iteration is:\n",
      "[985]\tvalid_0's auc: 0.845517\n",
      "Training until validation scores don't improve for 200 rounds\n",
      "Did not meet early stopping. Best iteration is:\n",
      "[2356]\tvalid_0's auc: 0.829107\n",
      "Training until validation scores don't improve for 200 rounds\n",
      "Early stopping, best iteration is:\n",
      "[2161]\tvalid_0's auc: 0.816324\n",
      "Training until validation scores don't improve for 200 rounds\n",
      "Did not meet early stopping. Best iteration is:\n",
      "[2360]\tvalid_0's auc: 0.81433\n",
      "Training until validation scores don't improve for 200 rounds\n",
      "Early stopping, best iteration is:\n",
      "[868]\tvalid_0's auc: 0.802119\n",
      "315\n",
      "Training until validation scores don't improve for 200 rounds\n",
      "Early stopping, best iteration is:\n",
      "[1445]\tvalid_0's auc: 0.825503\n",
      "Training until validation scores don't improve for 200 rounds\n",
      "Early stopping, best iteration is:\n",
      "[398]\tvalid_0's auc: 0.808355\n",
      "Training until validation scores don't improve for 200 rounds\n",
      "Early stopping, best iteration is:\n",
      "[1262]\tvalid_0's auc: 0.820025\n",
      "Training until validation scores don't improve for 200 rounds\n",
      "Early stopping, best iteration is:\n",
      "[1225]\tvalid_0's auc: 0.823074\n",
      "Training until validation scores don't improve for 200 rounds\n",
      "Early stopping, best iteration is:\n",
      "[1343]\tvalid_0's auc: 0.819259\n",
      "350\n",
      "Training until validation scores don't improve for 200 rounds\n",
      "Early stopping, best iteration is:\n",
      "[839]\tvalid_0's auc: 0.844254\n",
      "Training until validation scores don't improve for 200 rounds\n",
      "Early stopping, best iteration is:\n",
      "[1198]\tvalid_0's auc: 0.860116\n",
      "Training until validation scores don't improve for 200 rounds\n",
      "Did not meet early stopping. Best iteration is:\n",
      "[2493]\tvalid_0's auc: 0.790278\n",
      "Training until validation scores don't improve for 200 rounds\n",
      "Early stopping, best iteration is:\n",
      "[1616]\tvalid_0's auc: 0.81325\n",
      "Training until validation scores don't improve for 200 rounds\n",
      "Early stopping, best iteration is:\n",
      "[1646]\tvalid_0's auc: 0.804776\n",
      "395\n",
      "Training until validation scores don't improve for 200 rounds\n",
      "Early stopping, best iteration is:\n",
      "[1659]\tvalid_0's auc: 0.777253\n",
      "Training until validation scores don't improve for 200 rounds\n",
      "Early stopping, best iteration is:\n",
      "[903]\tvalid_0's auc: 0.831448\n",
      "Training until validation scores don't improve for 200 rounds\n",
      "Did not meet early stopping. Best iteration is:\n",
      "[2390]\tvalid_0's auc: 0.82627\n",
      "Training until validation scores don't improve for 200 rounds\n",
      "Did not meet early stopping. Best iteration is:\n",
      "[2331]\tvalid_0's auc: 0.830692\n",
      "Training until validation scores don't improve for 200 rounds\n",
      "Early stopping, best iteration is:\n",
      "[1766]\tvalid_0's auc: 0.861202\n",
      "420\n",
      "Training until validation scores don't improve for 200 rounds\n",
      "Early stopping, best iteration is:\n",
      "[1799]\tvalid_0's auc: 0.81419\n",
      "Training until validation scores don't improve for 200 rounds\n",
      "Early stopping, best iteration is:\n",
      "[2025]\tvalid_0's auc: 0.794609\n",
      "Training until validation scores don't improve for 200 rounds\n",
      "Early stopping, best iteration is:\n",
      "[1355]\tvalid_0's auc: 0.827244\n",
      "Training until validation scores don't improve for 200 rounds\n",
      "Early stopping, best iteration is:\n",
      "[1562]\tvalid_0's auc: 0.845805\n",
      "Training until validation scores don't improve for 200 rounds\n",
      "Did not meet early stopping. Best iteration is:\n",
      "[2486]\tvalid_0's auc: 0.812292\n",
      "450\n",
      "Training until validation scores don't improve for 200 rounds\n",
      "Early stopping, best iteration is:\n",
      "[914]\tvalid_0's auc: 0.83508\n",
      "Training until validation scores don't improve for 200 rounds\n",
      "Early stopping, best iteration is:\n",
      "[1752]\tvalid_0's auc: 0.796339\n",
      "Training until validation scores don't improve for 200 rounds\n",
      "Early stopping, best iteration is:\n",
      "[2122]\tvalid_0's auc: 0.846209\n",
      "Training until validation scores don't improve for 200 rounds\n",
      "Early stopping, best iteration is:\n",
      "[1436]\tvalid_0's auc: 0.811809\n",
      "Training until validation scores don't improve for 200 rounds\n",
      "Early stopping, best iteration is:\n",
      "[2077]\tvalid_0's auc: 0.81099\n",
      "500\n",
      "Training until validation scores don't improve for 200 rounds\n",
      "Early stopping, best iteration is:\n",
      "[1468]\tvalid_0's auc: 0.786156\n",
      "Training until validation scores don't improve for 200 rounds\n",
      "Early stopping, best iteration is:\n",
      "[983]\tvalid_0's auc: 0.792758\n",
      "Training until validation scores don't improve for 200 rounds\n",
      "Early stopping, best iteration is:\n"
     ]
    },
    {
     "name": "stdout",
     "output_type": "stream",
     "text": [
      "[1433]\tvalid_0's auc: 0.865306\n",
      "Training until validation scores don't improve for 200 rounds\n",
      "Early stopping, best iteration is:\n",
      "[1995]\tvalid_0's auc: 0.83336\n",
      "Training until validation scores don't improve for 200 rounds\n",
      "Early stopping, best iteration is:\n",
      "[1498]\tvalid_0's auc: 0.835915\n",
      "555\n",
      "Training until validation scores don't improve for 200 rounds\n",
      "Early stopping, best iteration is:\n",
      "[1529]\tvalid_0's auc: 0.823289\n",
      "Training until validation scores don't improve for 200 rounds\n",
      "Did not meet early stopping. Best iteration is:\n",
      "[2365]\tvalid_0's auc: 0.78472\n",
      "Training until validation scores don't improve for 200 rounds\n",
      "Early stopping, best iteration is:\n",
      "[1480]\tvalid_0's auc: 0.804976\n",
      "Training until validation scores don't improve for 200 rounds\n",
      "Early stopping, best iteration is:\n",
      "[1957]\tvalid_0's auc: 0.869918\n",
      "Training until validation scores don't improve for 200 rounds\n",
      "Early stopping, best iteration is:\n",
      "[1519]\tvalid_0's auc: 0.811492\n",
      "573\n",
      "Training until validation scores don't improve for 200 rounds\n",
      "Early stopping, best iteration is:\n",
      "[1533]\tvalid_0's auc: 0.835265\n",
      "Training until validation scores don't improve for 200 rounds\n",
      "Did not meet early stopping. Best iteration is:\n",
      "[2443]\tvalid_0's auc: 0.820193\n",
      "Training until validation scores don't improve for 200 rounds\n",
      "Early stopping, best iteration is:\n",
      "[1087]\tvalid_0's auc: 0.808718\n",
      "Training until validation scores don't improve for 200 rounds\n",
      "Early stopping, best iteration is:\n",
      "[1161]\tvalid_0's auc: 0.809707\n",
      "Training until validation scores don't improve for 200 rounds\n",
      "Early stopping, best iteration is:\n",
      "[1857]\tvalid_0's auc: 0.825268\n",
      "621\n",
      "Training until validation scores don't improve for 200 rounds\n",
      "Early stopping, best iteration is:\n",
      "[1064]\tvalid_0's auc: 0.811751\n",
      "Training until validation scores don't improve for 200 rounds\n",
      "Early stopping, best iteration is:\n",
      "[990]\tvalid_0's auc: 0.807917\n",
      "Training until validation scores don't improve for 200 rounds\n",
      "Early stopping, best iteration is:\n",
      "[1634]\tvalid_0's auc: 0.825226\n",
      "Training until validation scores don't improve for 200 rounds\n",
      "Early stopping, best iteration is:\n",
      "[1932]\tvalid_0's auc: 0.823279\n",
      "Training until validation scores don't improve for 200 rounds\n",
      "Early stopping, best iteration is:\n",
      "[1129]\tvalid_0's auc: 0.826325\n",
      "662\n",
      "Training until validation scores don't improve for 200 rounds\n",
      "Early stopping, best iteration is:\n",
      "[1688]\tvalid_0's auc: 0.804446\n",
      "Training until validation scores don't improve for 200 rounds\n",
      "Early stopping, best iteration is:\n",
      "[2178]\tvalid_0's auc: 0.825809\n",
      "Training until validation scores don't improve for 200 rounds\n",
      "Early stopping, best iteration is:\n",
      "[1664]\tvalid_0's auc: 0.854967\n",
      "Training until validation scores don't improve for 200 rounds\n",
      "Early stopping, best iteration is:\n",
      "[1598]\tvalid_0's auc: 0.811091\n",
      "Training until validation scores don't improve for 200 rounds\n",
      "Early stopping, best iteration is:\n",
      "[1102]\tvalid_0's auc: 0.825736\n",
      "685\n",
      "Training until validation scores don't improve for 200 rounds\n",
      "Early stopping, best iteration is:\n",
      "[1261]\tvalid_0's auc: 0.826356\n",
      "Training until validation scores don't improve for 200 rounds\n",
      "Did not meet early stopping. Best iteration is:\n",
      "[2404]\tvalid_0's auc: 0.836193\n",
      "Training until validation scores don't improve for 200 rounds\n",
      "Early stopping, best iteration is:\n",
      "[1940]\tvalid_0's auc: 0.798645\n",
      "Training until validation scores don't improve for 200 rounds\n",
      "Early stopping, best iteration is:\n",
      "[1632]\tvalid_0's auc: 0.858874\n",
      "Training until validation scores don't improve for 200 rounds\n",
      "Early stopping, best iteration is:\n",
      "[989]\tvalid_0's auc: 0.788804\n",
      "714\n",
      "Training until validation scores don't improve for 200 rounds\n",
      "Early stopping, best iteration is:\n",
      "[2213]\tvalid_0's auc: 0.833085\n",
      "Training until validation scores don't improve for 200 rounds\n",
      "Early stopping, best iteration is:\n",
      "[1664]\tvalid_0's auc: 0.810425\n",
      "Training until validation scores don't improve for 200 rounds\n",
      "Early stopping, best iteration is:\n",
      "[1188]\tvalid_0's auc: 0.841331\n",
      "Training until validation scores don't improve for 200 rounds\n",
      "Early stopping, best iteration is:\n",
      "[1129]\tvalid_0's auc: 0.800537\n",
      "Training until validation scores don't improve for 200 rounds\n",
      "Early stopping, best iteration is:\n",
      "[1435]\tvalid_0's auc: 0.802311\n",
      "777\n",
      "Training until validation scores don't improve for 200 rounds\n",
      "Early stopping, best iteration is:\n",
      "[1310]\tvalid_0's auc: 0.849299\n",
      "Training until validation scores don't improve for 200 rounds\n",
      "Early stopping, best iteration is:\n",
      "[1510]\tvalid_0's auc: 0.821104\n",
      "Training until validation scores don't improve for 200 rounds\n",
      "Did not meet early stopping. Best iteration is:\n",
      "[2453]\tvalid_0's auc: 0.840328\n",
      "Training until validation scores don't improve for 200 rounds\n",
      "Early stopping, best iteration is:\n",
      "[848]\tvalid_0's auc: 0.832653\n",
      "Training until validation scores don't improve for 200 rounds\n",
      "Did not meet early stopping. Best iteration is:\n",
      "[2325]\tvalid_0's auc: 0.785942\n",
      "---------------------------------------------\n",
      "time:  288.42592883110046\n"
     ]
    }
   ],
   "source": [
    "start_time = time.time()\n",
    "\n",
    "auc_test, auc_train, auc_test_2, auc_test_2_blnc = [], [], [], []\n",
    "clf_list, list_pred_test_2= [], []\n",
    "\n",
    "#Создание нулевых словарей для хранения суммарных скоров по итерациям\n",
    "dict_pred_train=create_dict(df_full.index)\n",
    "dict_pred_test=create_dict(df_full.loc[lambda x: x.REQUEST_DATE>='2017-07-01'].index)\n",
    "dict_feature_importan=create_dict(df_full.drop(['12_90','REQUEST_DATE'], axis=1).columns)\n",
    "\n",
    "#5, 55, 111, 155, 202, 232, 280, 315, 350, 395, 420, 450, 500, 555, 573, 621, 662, 685, 714, 777\n",
    "for seed in [5, 55, 111, 155, 202, 232, 280, 315, 350, 395, 420, 450, 500, 555, 573, 621, 662, 685, 714, 777]:  \n",
    "\n",
    "        print(seed)\n",
    "        kf=StratifiedKFold(n_splits=5, random_state=seed, shuffle=True)\n",
    "        folds=kf.n_splits\n",
    "        \n",
    "        for fold in range(0,folds):\n",
    "                 \n",
    "            x_train, y_train, x_test, y_test =my_cv(df_full, kf, fold)\n",
    "            clf_lgbm = lgbm.LGBMClassifier(**grid_params) \n",
    "      \n",
    "            clf_lgbm.fit(x_train, y_train, \n",
    "                            eval_set=[(x_test,  y_test)],\n",
    "                            #eval_set=[(x_test,  y_test), (x_test_2,  y_test_2)], \n",
    "                            #eval_names=['cv', 'fixed'],\n",
    "                            eval_metric='auc',\n",
    "                            early_stopping_rounds=200,\n",
    "                            verbose=-1)\n",
    "            #Сохранение классификатора и формирование Series для сохранения predict скоров на текущей итерации\n",
    "            clf_list.append(clf_lgbm)  \n",
    "            cur_pred_train=pd.Series(clf_lgbm.predict_proba(x_train)[:,1], index=x_train.index)\n",
    "            cur_pred_test=pd.Series(clf_lgbm.predict_proba(x_test)[:,1], index=x_test.index)\n",
    "            cur_importance=pd.Series(clf_lgbm.feature_importances_, index=dict_feature_importan.keys())\n",
    "            \n",
    "            #Добавление важности фичей, скоров текущей итерации в суммирующие словари и списки(по индексам)\n",
    "            dict_feature_importan = update_dict(list(dict_feature_importan.keys()), dict_feature_importan ,cur_importance)                 \n",
    "            dict_pred_train=update_dict(x_train.index, dict_pred_train, cur_pred_train)\n",
    "            dict_pred_test=update_dict(x_test.index, dict_pred_test, cur_pred_test)\n",
    "            list_pred_test_2.append(clf_lgbm.predict_proba(x_test_2)[:,1]) \n",
    "            \n",
    "            #Сохранение auc на итерации \n",
    "            auc_test.append(roc_auc_score(y_test, clf_lgbm.predict_proba(x_test)[:,1]))\n",
    "            auc_train.append(roc_auc_score(y_train, clf_lgbm.predict_proba(x_train)[:,1]))\n",
    "            auc_test_2.append(roc_auc_score(y_test_2, clf_lgbm.predict_proba(x_test_2)[:,1]))\n",
    "            #auc_test_2_blnc.append(roc_auc_score(y_test_2_blnc, clf_lgbm.predict_proba(x_test_2_blnc)[:,1]))# для 1000 с конца           \n",
    "print('---------------------------------------------')      \n",
    "print('time: ', time.time() - start_time)    "
   ]
  },
  {
   "cell_type": "code",
   "execution_count": 96,
   "metadata": {},
   "outputs": [
    {
     "data": {
      "text/html": [
       "[0.8194199388802399, 0.8177766245747564, 0.8191662342155336, 0.8357178297288621, 0.8150133735122698, 0.8009744565530761, 0.8169520844144611, 0.8417344173441735, 0.8237865919505005, 0.8401836083955289, 0.8035518653058871, 0.8422821887793347, 0.8092198581560286, 0.8285614219420365, 0.8222432460843057, 0.8158392434988179, 0.814403505737185, 0.8369601568356109, 0.8198464816274115, 0.8164091243561442, 0.8172461511849161, 0.852637951911434, 0.8094908608660554, 0.8063975717246008, 0.8242229930971652, 0.8321628322666206, 0.8286282650060544, 0.8087758749927925, 0.8346846452441409, 0.8173259983414508, 0.8455169232543389, 0.829106844259932, 0.8163235887678026, 0.8143303271750867, 0.802118738101078, 0.8255030848180822, 0.8083549558899845, 0.8200253704664706, 0.8230744534921053, 0.8192590256607917, 0.8442541659459147, 0.8601164735051606, 0.7902784985296661, 0.8132504450865365, 0.8047759206699604, 0.7772530704030445, 0.8314478463933577, 0.8262699648273079, 0.8306920001167439, 0.8612016305173038, 0.8141901631782276, 0.7946087758749928, 0.827244421380384, 0.84580451215597, 0.8122919513647989, 0.8350804359107421, 0.7963385804070807, 0.846208845067174, 0.8118086565683098, 0.8109896399079622, 0.7861557977281901, 0.7927578850256587, 0.8653058871014242, 0.8333596007354873, 0.8359145964002477, 0.8232889350170096, 0.784720059966557, 0.8049760710373061, 0.8699179873332749, 0.8114918766132894, 0.8352649483941647, 0.8201925849045723, 0.8087182148417229, 0.8097072643959957, 0.8252683462396486, 0.8117511387879837, 0.8079167387418555, 0.8252263160929483, 0.823278755508858, 0.8263253793055119, 0.8044455976474658, 0.8258086836187511, 0.8549674220146457, 0.8110906809094358, 0.8257355431748367, 0.8263564550539123, 0.8361932768263853, 0.7986449864498645, 0.8588740040276682, 0.788803625448217, 0.8330853946837342, 0.810424955313383, 0.8413307962866862, 0.8005370224440358, 0.8023114568368432, 0.8492994291645044, 0.8211036152914721, 0.8403275096580752, 0.8326532994775705, 0.7859420442201899]"
      ],
      "text/plain": [
       "[0.8194199388802399,\n",
       " 0.8177766245747564,\n",
       " 0.8191662342155336,\n",
       " 0.8357178297288621,\n",
       " 0.8150133735122698,\n",
       " 0.8009744565530761,\n",
       " 0.8169520844144611,\n",
       " 0.8417344173441735,\n",
       " 0.8237865919505005,\n",
       " 0.8401836083955289,\n",
       " 0.8035518653058871,\n",
       " 0.8422821887793347,\n",
       " 0.8092198581560286,\n",
       " 0.8285614219420365,\n",
       " 0.8222432460843057,\n",
       " 0.8158392434988179,\n",
       " 0.814403505737185,\n",
       " 0.8369601568356109,\n",
       " 0.8198464816274115,\n",
       " 0.8164091243561442,\n",
       " 0.8172461511849161,\n",
       " 0.852637951911434,\n",
       " 0.8094908608660554,\n",
       " 0.8063975717246008,\n",
       " 0.8242229930971652,\n",
       " 0.8321628322666206,\n",
       " 0.8286282650060544,\n",
       " 0.8087758749927925,\n",
       " 0.8346846452441409,\n",
       " 0.8173259983414508,\n",
       " 0.8455169232543389,\n",
       " 0.829106844259932,\n",
       " 0.8163235887678026,\n",
       " 0.8143303271750867,\n",
       " 0.802118738101078,\n",
       " 0.8255030848180822,\n",
       " 0.8083549558899845,\n",
       " 0.8200253704664706,\n",
       " 0.8230744534921053,\n",
       " 0.8192590256607917,\n",
       " 0.8442541659459147,\n",
       " 0.8601164735051606,\n",
       " 0.7902784985296661,\n",
       " 0.8132504450865365,\n",
       " 0.8047759206699604,\n",
       " 0.7772530704030445,\n",
       " 0.8314478463933577,\n",
       " 0.8262699648273079,\n",
       " 0.8306920001167439,\n",
       " 0.8612016305173038,\n",
       " 0.8141901631782276,\n",
       " 0.7946087758749928,\n",
       " 0.827244421380384,\n",
       " 0.84580451215597,\n",
       " 0.8122919513647989,\n",
       " 0.8350804359107421,\n",
       " 0.7963385804070807,\n",
       " 0.846208845067174,\n",
       " 0.8118086565683098,\n",
       " 0.8109896399079622,\n",
       " 0.7861557977281901,\n",
       " 0.7927578850256587,\n",
       " 0.8653058871014242,\n",
       " 0.8333596007354873,\n",
       " 0.8359145964002477,\n",
       " 0.8232889350170096,\n",
       " 0.784720059966557,\n",
       " 0.8049760710373061,\n",
       " 0.8699179873332749,\n",
       " 0.8114918766132894,\n",
       " 0.8352649483941647,\n",
       " 0.8201925849045723,\n",
       " 0.8087182148417229,\n",
       " 0.8097072643959957,\n",
       " 0.8252683462396486,\n",
       " 0.8117511387879837,\n",
       " 0.8079167387418555,\n",
       " 0.8252263160929483,\n",
       " 0.823278755508858,\n",
       " 0.8263253793055119,\n",
       " 0.8044455976474658,\n",
       " 0.8258086836187511,\n",
       " 0.8549674220146457,\n",
       " 0.8110906809094358,\n",
       " 0.8257355431748367,\n",
       " 0.8263564550539123,\n",
       " 0.8361932768263853,\n",
       " 0.7986449864498645,\n",
       " 0.8588740040276682,\n",
       " 0.788803625448217,\n",
       " 0.8330853946837342,\n",
       " 0.810424955313383,\n",
       " 0.8413307962866862,\n",
       " 0.8005370224440358,\n",
       " 0.8023114568368432,\n",
       " 0.8492994291645044,\n",
       " 0.8211036152914721,\n",
       " 0.8403275096580752,\n",
       " 0.8326532994775705,\n",
       " 0.7859420442201899]"
      ]
     },
     "execution_count": 96,
     "metadata": {},
     "output_type": "execute_result"
    }
   ],
   "source": [
    "auc_test"
   ]
  },
  {
   "cell_type": "code",
   "execution_count": 97,
   "metadata": {},
   "outputs": [
    {
     "name": "stdout",
     "output_type": "stream",
     "text": [
      "auc_train:  0.91009\n",
      "auc_test:   0.82159\n",
      "auc_test_2: 0.81577\n",
      "std_test:   0.01857\n",
      "std_train:  0.00856\n",
      "std_test_2: 0.00532\n"
     ]
    }
   ],
   "source": [
    "print(f'auc_train:  {pd.Series(auc_train).mean():.5f}')\n",
    "print(f'auc_test:   {pd.Series(auc_test).mean():.5f}')\n",
    "print(f'auc_test_2: {pd.Series(auc_test_2).mean():.5f}')\n",
    "print(f'std_test:   {pd.Series(auc_test).std():.5f}')\n",
    "print(f'std_train:  {pd.Series(auc_train).std():.5f}')\n",
    "print(f'std_test_2: {pd.Series(auc_test_2).std():.5f}')"
   ]
  },
  {
   "cell_type": "code",
   "execution_count": 98,
   "metadata": {},
   "outputs": [
    {
     "name": "stdout",
     "output_type": "stream",
     "text": [
      "Баланс классов на тренировочной и тестовых выборках:\n",
      "y_train: 3.683 %\n",
      "y_test: 3.69 %\n",
      "y_test_2: 3.734 %\n"
     ]
    }
   ],
   "source": [
    "print('Баланс классов на тренировочной и тестовых выборках:')\n",
    "print('y_train:', round((y_train.mean()*100), 3), '%')\n",
    "print('y_test:', round((y_test.mean()*100), 3), '%')\n",
    "print('y_test_2:', round((y_test_2.mean()*100), 3), '%')"
   ]
  },
  {
   "cell_type": "markdown",
   "metadata": {},
   "source": [
    "## Усредненная значимость фичей по 100 классификаторам"
   ]
  },
  {
   "cell_type": "code",
   "execution_count": null,
   "metadata": {},
   "outputs": [],
   "source": [
    "dset = pd.Series(list(dict_feature_importan.values()), index=dict_feature_importan.keys()).sort_values(ascending=True)/100\n",
    "plt.figure(figsize=(12, 10))\n",
    "plt.barh(y=dset.index, width=dset, color='g')\n",
    "plt.title('Усредненная значимость фичей', fontsize=16, fontweight='bold')\n",
    "plt.show()"
   ]
  },
  {
   "cell_type": "code",
   "execution_count": null,
   "metadata": {},
   "outputs": [],
   "source": []
  },
  {
   "cell_type": "markdown",
   "metadata": {},
   "source": [
    "## Доверительный интервал"
   ]
  },
  {
   "cell_type": "code",
   "execution_count": 101,
   "metadata": {},
   "outputs": [],
   "source": [
    "from scipy import stats\n",
    "\n",
    "def stats_intervals(auc_mean, auc_std, n_folds=5):\n",
    "    n_folds = n_folds - 1\n",
    "    my_interval= (auc_mean + stats.t.ppf(0.025, df=n_folds)*auc_std / np.sqrt(n_folds), \n",
    "                  auc_mean + stats.t.ppf(0.975, df=n_folds)*auc_std / np.sqrt(n_folds))\n",
    "    return my_interval "
   ]
  },
  {
   "cell_type": "markdown",
   "metadata": {},
   "source": [
    "## ROC_AUC Curve LightGBM"
   ]
  },
  {
   "cell_type": "markdown",
   "metadata": {},
   "source": [
    "Размерность test=2196* 5=10980 (20 скоров), test_2=2196 (100 скоров)"
   ]
  },
  {
   "cell_type": "code",
   "execution_count": 102,
   "metadata": {},
   "outputs": [
    {
     "data": {
      "image/png": "[encoded data removed]",
      "text/plain": [
       "<Figure size 576x576 with 1 Axes>"
      ]
     },
     "metadata": {},
     "output_type": "display_data"
    },
    {
     "name": "stdout",
     "output_type": "stream",
     "text": [
      "Результат после усреднения predict_proba 100 моделей:\n",
      "auc_train:   0.91394\n",
      "auc_test:   0.82487\n",
      "auc_test_2: 0.82037\n",
      "********************\n",
      "Результат после усреднения auc каждой из 100 моделей:\n",
      "auc_train:  0.91009\n",
      "auc_test:   0.82159\n",
      "auc_test_2: 0.81577\n",
      "Доверительный интервал test:  (0.8178847740286607, 0.8252914037502014)\n",
      "std_test:   0.01857\n",
      "std_train:  0.00856\n",
      "std_test_2: 0.00532\n"
     ]
    }
   ],
   "source": [
    "df_2016=df_ml.loc[lambda x: x.REQUEST_DATE<'2017-07-01'].drop('REQUEST_DATE', axis=1)\n",
    "df_2018=df_ml.loc[lambda x: x.REQUEST_DATE>='2017-07-01']\n",
    "\n",
    "plt.figure(figsize=(8, 8))\n",
    "line_width = 2\n",
    "\n",
    "fpr, tpr, thresholds = roc_curve(list(df_ml.loc[[*dict_pred_train], '12_90']), (pd.DataFrame([*dict_pred_train.values()], index=[*dict_pred_train]).apply(lambda x: x/100 if any(x.index.isin(df_2016.index)) else x/80).values))\n",
    "plt.plot(fpr, tpr, color='g', lw=line_width, label='train')\n",
    "\n",
    "fpr, tpr, thresholds = roc_curve(list(df_2018.loc[[*dict_pred_test], '12_90']), (pd.Series([*dict_pred_test.values()])/20).values)\n",
    "plt.plot(fpr, tpr, color='darkorange', lw=line_width, label='test')\n",
    "\n",
    "fpr, tpr, thresholds = roc_curve(y_test_2, [sum(i)/100 for i in list(zip(*list_pred_test_2))])\n",
    "plt.plot(fpr, tpr, color='b', lw=line_width, label='test_2')\n",
    "\n",
    "plt.plot([0, 1], [0, 1], color='navy', lw=line_width, linestyle='--')\n",
    "plt.xlim([0.0, 1.1])\n",
    "plt.ylim([0.0, 1.1])\n",
    "plt.xlabel('False Positive Rate')\n",
    "plt.ylabel('True Positive Rate')\n",
    "plt.legend()\n",
    "plt.title('Receiver operating characteristic')\n",
    "plt.show()\n",
    "tmp0=roc_auc_score(list(df_ml.loc[[*dict_pred_train], '12_90']), (pd.DataFrame([*dict_pred_train.values()], index=[*dict_pred_train]).apply(lambda x: x/100 if any(x.index.isin(df_2016.index)) else x/80).values))\n",
    "tmp1=roc_auc_score(list(df_2018.loc[[*dict_pred_test], '12_90']), (pd.Series([*dict_pred_test.values()])/20).values)\n",
    "tmp2=roc_auc_score(y_test_2, [sum(i)/100 for i in list(zip(*list_pred_test_2))])\n",
    "\n",
    "print('Результат после усреднения predict_proba 100 моделей:')\n",
    "print(f'auc_train:   {tmp0:.5f}')\n",
    "print(f'auc_test:   {tmp1:.5f}')\n",
    "print(f'auc_test_2: {tmp2:.5f}')\n",
    "print('********************')\n",
    "print('Результат после усреднения auc каждой из 100 моделей:')\n",
    "print(f'auc_train:  {pd.Series(auc_train).mean():.5f}')\n",
    "print(f'auc_test:   {pd.Series(auc_test).mean():.5f}')\n",
    "print(f'auc_test_2: {pd.Series(auc_test_2).mean():.5f}')\n",
    "print('Доверительный интервал test: ', stats_intervals(pd.Series(auc_test).mean(),pd.Series(auc_test).std(), 100))\n",
    "print(f'std_test:   {pd.Series(auc_test).std():.5f}')\n",
    "print(f'std_train:  {pd.Series(auc_train).std():.5f}')\n",
    "print(f'std_test_2: {pd.Series(auc_test_2).std():.5f}')"
   ]
  },
  {
   "cell_type": "code",
   "execution_count": 104,
   "metadata": {},
   "outputs": [
    {
     "name": "stdout",
     "output_type": "stream",
     "text": [
      "4.911005258560181\n"
     ]
    }
   ],
   "source": [
    "start_time = time.time()\n",
    "\n",
    "pred_test_yy=[]\n",
    "\n",
    "for clf in clf_list:\n",
    "    pred_test_yy.append(clf.predict_proba(x_test_2)[:,1])\n",
    "    \n",
    "print(time.time() - start_time)    "
   ]
  },
  {
   "cell_type": "markdown",
   "metadata": {},
   "source": [
    "### Качество предсказанных значений"
   ]
  },
  {
   "cell_type": "code",
   "execution_count": 105,
   "metadata": {},
   "outputs": [
    {
     "data": {
      "text/plain": [
       "0.8203728915245634"
      ]
     },
     "execution_count": 105,
     "metadata": {},
     "output_type": "execute_result"
    }
   ],
   "source": [
    "roc_auc_score(y_test_2, [sum(i)/100 for i in list(zip(*pred_test_yy))])"
   ]
  },
  {
   "cell_type": "code",
   "execution_count": null,
   "metadata": {},
   "outputs": [],
   "source": []
  },
  {
   "cell_type": "markdown",
   "metadata": {},
   "source": [
    "## Shap (на одном из clf, на одном из train)"
   ]
  },
  {
   "cell_type": "code",
   "execution_count": 106,
   "metadata": {},
   "outputs": [],
   "source": [
    "shap_values= shap.TreeExplainer(clf_lgbm).shap_values(x_train)"
   ]
  },
  {
   "cell_type": "code",
   "execution_count": null,
   "metadata": {},
   "outputs": [],
   "source": [
    "shap.summary_plot(shap_values[0], x_train, plot_type=\"bar\",  max_display=22, auto_size_plot=True)\n"
   ]
  },
  {
   "cell_type": "code",
   "execution_count": null,
   "metadata": {},
   "outputs": [],
   "source": [
    "shap.summary_plot(shap_values[0], x_train, max_display=22, auto_size_plot=True, plot_type=\"dot\")"
   ]
  },
  {
   "cell_type": "markdown",
   "metadata": {},
   "source": [
    "## Изменчивость теста"
   ]
  },
  {
   "cell_type": "code",
   "execution_count": 110,
   "metadata": {},
   "outputs": [
    {
     "name": "stdout",
     "output_type": "stream",
     "text": [
      "Training until validation scores don't improve for 200 rounds\n",
      "Early stopping, best iteration is:\n",
      "[1640]\tvalid_0's auc: 0.817777\n",
      "---------------------------------------------\n",
      "diff_test:  0.0019793952703952363\n",
      "55.073153257369995\n"
     ]
    }
   ],
   "source": [
    "start_time = time.time()\n",
    "\n",
    "auc_test, auc_train, auc_test_2, auc_test_2_blnc = [], [], [], []\n",
    "diff_test=[] \n",
    "\n",
    "fold=1\n",
    "seeds=5  \n",
    " \n",
    "kf=StratifiedKFold(n_splits=5, random_state=seeds, shuffle=True)\n",
    "folds=kf.n_splits        \n",
    "x_train, y_train, x_test, y_test =my_cv(df_full, kf, fold)\n",
    "            \n",
    "clf_lgbm_2 = lgbm.LGBMClassifier(**grid_params) \n",
    "        \n",
    "clf_lgbm_2.fit(x_train, y_train, \n",
    "             eval_set=[(x_test,  y_test)], \n",
    "             eval_metric='auc',\n",
    "             early_stopping_rounds=200,\n",
    "             verbose=-1)\n",
    "\n",
    "auc_test=roc_auc_score(y_test, clf_lgbm_2.predict_proba(x_test)[:,1])\n",
    "\n",
    "for i in range(1000):\n",
    "    \n",
    "    clas=np.random.randint(0,2)\n",
    "    del_ind=y_test.loc[lambda x: x==clas].sample(1).index[0] #Вариант с заменой 1 значения\n",
    "    #x_test=x_test.loc[lambda x: ~x.index.isin(del_ind)] #Вариант с удалением 1 значения\n",
    "    #y_test=y_test.loc[lambda x: ~x.index.isin(del_ind)]\n",
    "\n",
    "    y_test.loc[del_ind]=(1-clas)           \n",
    "    auc_test_2=roc_auc_score(y_test, clf_lgbm_2.predict_proba(x_test)[:,1])  \n",
    "    diff_test.append(auc_test-auc_test_2)\n",
    "    y_test.loc[del_ind]=clas\n",
    "print('---------------------------------------------')  \n",
    "print('diff_test: ', pd.Series(diff_test).mean())\n",
    "print(time.time() - start_time)"
   ]
  },
  {
   "cell_type": "code",
   "execution_count": 111,
   "metadata": {},
   "outputs": [
    {
     "data": {
      "text/plain": [
       "0.0037719670057614983"
      ]
     },
     "execution_count": 111,
     "metadata": {},
     "output_type": "execute_result"
    }
   ],
   "source": [
    "#pd.Series([auc_test - x for x in diff_test]).std()\n",
    "pd.Series(diff_test).std()"
   ]
  },
  {
   "cell_type": "code",
   "execution_count": 112,
   "metadata": {},
   "outputs": [
    {
     "data": {
      "text/plain": [
       "0.005988335451215306"
      ]
     },
     "execution_count": 112,
     "metadata": {},
     "output_type": "execute_result"
    }
   ],
   "source": [
    "pd.Series(diff_test).abs().std()+pd.Series(diff_test).abs().mean()"
   ]
  },
  {
   "cell_type": "code",
   "execution_count": 113,
   "metadata": {},
   "outputs": [
    {
     "data": {
      "text/plain": [
       "<matplotlib.axes._subplots.AxesSubplot at 0x1ee8003a128>"
      ]
     },
     "execution_count": 113,
     "metadata": {},
     "output_type": "execute_result"
    },
    {
     "data": {
      "image/png": "[encoded data removed]",
      "text/plain": [
       "<Figure size 576x360 with 1 Axes>"
      ]
     },
     "metadata": {},
     "output_type": "display_data"
    }
   ],
   "source": [
    "pd.Series(diff_test).hist(figsize=(8,5), bins=20)"
   ]
  },
  {
   "cell_type": "code",
   "execution_count": 114,
   "metadata": {},
   "outputs": [
    {
     "data": {
      "text/plain": [
       "0.0019793952703952363"
      ]
     },
     "execution_count": 114,
     "metadata": {},
     "output_type": "execute_result"
    }
   ],
   "source": [
    "pd.Series(diff_test).mean()"
   ]
  },
  {
   "cell_type": "code",
   "execution_count": 115,
   "metadata": {},
   "outputs": [
    {
     "name": "stdout",
     "output_type": "stream",
     "text": [
      "(0.9691249132156372, 9.726402083916341e-14)\n"
     ]
    }
   ],
   "source": [
    "print (stats.shapiro(diff_test))"
   ]
  },
  {
   "cell_type": "code",
   "execution_count": null,
   "metadata": {},
   "outputs": [],
   "source": []
  },
  {
   "cell_type": "code",
   "execution_count": null,
   "metadata": {},
   "outputs": [],
   "source": []
  },
  {
   "cell_type": "markdown",
   "metadata": {},
   "source": [
    "## RFECV"
   ]
  },
  {
   "cell_type": "code",
   "execution_count": 222,
   "metadata": {},
   "outputs": [],
   "source": [
    "df_rfe = df.copy()"
   ]
  },
  {
   "cell_type": "code",
   "execution_count": 128,
   "metadata": {},
   "outputs": [],
   "source": [
    "from sklearn.utils import shuffle\n",
    "\n",
    "df_rfe = shuffle(df_rfe, random_state=20)"
   ]
  },
  {
   "cell_type": "code",
   "execution_count": 275,
   "metadata": {},
   "outputs": [],
   "source": [
    "X_new = df_rfe.loc[lambda x: x.REQUEST_DATE>='2017-07-01'].drop(['12_90','REQUEST_DATE'], axis=1)\n",
    "Y_new = df_rfe.loc[lambda x: x.REQUEST_DATE>='2017-07-01']['12_90']\n",
    "#X_old = df_rfe.loc[lambda x: x.REQUEST_DATE<'2017-07-01'].drop(['12_90','REQUEST_DATE'], axis=1)\n",
    "#Y_old = df_rfe.loc[lambda x: x.REQUEST_DATE<'2017-07-01']['12_90']\n",
    "\n",
    "x_train, x_test, y_train, y_test = train_test_split(X_new, Y_new, test_size = 1000, stratify=Y_new, random_state=5, shuffle = True)\n",
    "\n",
    "#x_train=pd.concat([X_old, XX], axis=0)\n",
    "#y_train=pd.concat([Y_old, YY], axis=0)"
   ]
  },
  {
   "cell_type": "code",
   "execution_count": 276,
   "metadata": {
    "scrolled": true
   },
   "outputs": [
    {
     "name": "stdout",
     "output_type": "stream",
     "text": [
      "Training until validation scores don't improve for 200 rounds\n",
      "Did not meet early stopping. Best iteration is:\n",
      "[1832]\tvalid_0's auc: 0.85333\n",
      "---------------------------------------------\n",
      "time:  2.1672286987304688\n"
     ]
    }
   ],
   "source": [
    "start_time = time.time()\n",
    "\n",
    "clf_lgbm_3 = lgbm.LGBMClassifier(**grid_params) \n",
    "      \n",
    "clf_lgbm_3.fit(x_train, y_train, \n",
    "                eval_set=[(x_test,  y_test)],\n",
    "                eval_metric='auc',\n",
    "                early_stopping_rounds=200,\n",
    "                verbose=-1)          \n",
    "print('---------------------------------------------')      \n",
    "print('time: ', time.time() - start_time)    "
   ]
  },
  {
   "cell_type": "code",
   "execution_count": 270,
   "metadata": {},
   "outputs": [],
   "source": [
    "#clf_lgbm_3 = lgbm.LGBMClassifier(**grid_params) "
   ]
  },
  {
   "cell_type": "code",
   "execution_count": 235,
   "metadata": {},
   "outputs": [
    {
     "data": {
      "text/plain": [
       "StratifiedKFold(n_splits=5, random_state=5, shuffle=True)"
      ]
     },
     "execution_count": 235,
     "metadata": {},
     "output_type": "execute_result"
    }
   ],
   "source": [
    "kf"
   ]
  },
  {
   "cell_type": "code",
   "execution_count": 285,
   "metadata": {},
   "outputs": [
    {
     "name": "stdout",
     "output_type": "stream",
     "text": [
      "443.47967648506165\n"
     ]
    }
   ],
   "source": [
    "from sklearn.feature_selection import RFECV\n",
    "\n",
    "start_time = time.time()\n",
    "\n",
    "rfecv_lgbm = RFECV(estimator=clf_lgbm_3, cv=kf, step=1, verbose=-1)\n",
    "rfecv_lgbm.fit(x_train, y_train)\n",
    "\n",
    "print(time.time() - start_time)"
   ]
  },
  {
   "cell_type": "code",
   "execution_count": null,
   "metadata": {},
   "outputs": [],
   "source": []
  },
  {
   "cell_type": "code",
   "execution_count": 286,
   "metadata": {},
   "outputs": [
    {
     "data": {
      "text/plain": [
       "21"
      ]
     },
     "execution_count": 286,
     "metadata": {},
     "output_type": "execute_result"
    }
   ],
   "source": [
    "rfecv_lgbm.n_features_"
   ]
  },
  {
   "cell_type": "code",
   "execution_count": 273,
   "metadata": {},
   "outputs": [
    {
     "data": {
      "text/plain": [
       "1"
      ]
     },
     "execution_count": 273,
     "metadata": {},
     "output_type": "execute_result"
    }
   ],
   "source": [
    "rfecv_lgbm.min_features_to_select"
   ]
  },
  {
   "cell_type": "code",
   "execution_count": null,
   "metadata": {},
   "outputs": [],
   "source": []
  }
 ],
 "metadata": {
  "kernelspec": {
   "display_name": "Python 3",
   "language": "python",
   "name": "python3"
  },
  "language_info": {
   "codemirror_mode": {
    "name": "ipython",
    "version": 3
   },
   "file_extension": ".py",
   "mimetype": "text/x-python",
   "name": "python",
   "nbconvert_exporter": "python",
   "pygments_lexer": "ipython3",
   "version": "3.6.5"
  }
 },
 "nbformat": 4,
 "nbformat_minor": 2
}
